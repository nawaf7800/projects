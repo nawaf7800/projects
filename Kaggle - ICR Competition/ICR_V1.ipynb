{
  "cells": [
    {
      "cell_type": "code",
      "execution_count": 1,
      "metadata": {
        "trusted": true
      },
      "outputs": [],
      "source": [
        "import pandas as pd\n",
        "\n",
        "from sklearn.preprocessing import LabelEncoder\n",
        "from sklearn.impute import KNNImputer\n",
        "from sklearn.model_selection import StratifiedKFold\n",
        "\n",
        "from sklearn.metrics import log_loss\n",
        "import numpy as np\n",
        "\n",
        "import xgboost as xgb"
      ]
    },
    {
      "cell_type": "code",
      "execution_count": 9,
      "metadata": {
        "trusted": true
      },
      "outputs": [],
      "source": [
        "#Importing data\n",
        "train = pd.read_csv('./data/train.csv')\n",
        "test = pd.read_csv('./data/test.csv')\n",
        "greeks = pd.read_csv('./data/greeks.csv')\n",
        "sample_submission = pd.read_csv('./data/sample_submission.csv')\n",
        "\n",
        "df = pd.merge(train, greeks, how='left', on='Id')"
      ]
    },
    {
      "cell_type": "code",
      "execution_count": 10,
      "metadata": {
        "trusted": true
      },
      "outputs": [],
      "source": [
        "# Data Cleaning\n",
        "def encode(dataframe):\n",
        "    le = LabelEncoder()\n",
        "    obj = list(dataframe.loc[:, dataframe.dtypes == 'object'].columns)\n",
        "    for i in obj:\n",
        "        if i not in ['id', 'Epsilon']:\n",
        "            dataframe[i] = le.fit_transform(dataframe[i])\n",
        "    return dataframe\n",
        "\n",
        "df = encode(df)  \n",
        "test = encode(test)"
      ]
    },
    {
      "cell_type": "code",
      "execution_count": 11,
      "metadata": {
        "trusted": true
      },
      "outputs": [],
      "source": [
        "features = ['AB', 'AF', 'AH', 'AM', 'AR', 'AX', 'AY', 'AZ', 'BC', 'BD ', 'BN',\n",
        "       'BP', 'BQ', 'BR', 'BZ', 'CB', 'CC', 'CD ', 'CF', 'CH', 'CL', 'CR', 'CS',\n",
        "       'CU', 'CW ', 'DA', 'DE', 'DF', 'DH', 'DI', 'DL', 'DN', 'DU', 'DV', 'DY',\n",
        "       'EB', 'EE', 'EG', 'EH', 'EJ', 'EL', 'EP', 'EU', 'FC', 'FD ', 'FE', 'FI',\n",
        "       'FL', 'FR', 'FS', 'GB', 'GE', 'GF', 'GH', 'GI', 'GL']\n",
        "\n",
        "target = 'Class'"
      ]
    },
    {
      "cell_type": "code",
      "execution_count": 12,
      "metadata": {
        "trusted": true
      },
      "outputs": [],
      "source": [
        "imputer = KNNImputer(n_neighbors=2)\n",
        "\n",
        "df[features] = imputer.fit_transform(df[features])\n",
        "test[features] = imputer.fit_transform(test[features])"
      ]
    },
    {
      "cell_type": "code",
      "execution_count": 13,
      "metadata": {
        "trusted": true
      },
      "outputs": [
        {
          "name": "stdout",
          "output_type": "stream",
          "text": [
            "Log-loss scores: [0.17990107671367198, 0.18950467967594753, 0.15694548935535965, 0.2653883074983191, 0.18963259583653053]\n",
            "Mean Log-loss: 0.19627442981596577\n"
          ]
        }
      ],
      "source": [
        "# XGBoost parameters\n",
        "params = {\n",
        "    \"objective\": \"binary:logistic\",\n",
        "    \"max_depth\": 10,\n",
        "    \"verbosity\": 0,\n",
        "    'eta': 0.09123900972866311, \n",
        "    'max_depth': 3, \n",
        "    'gamma': 0.19155496758925133, \n",
        "    'colsample_bytree': 0.728182625320748, \n",
        "    'subsample': 0.8440687156514323, \n",
        "    'min_child_weight': 3, \n",
        "    \"tree_method\": \"gpu_hist\",  \n",
        "    \"gpu_id\": 0,  \n",
        "}\n",
        "\n",
        "# Modeling\n",
        "X = df[features]\n",
        "y = df[target]\n",
        "\n",
        "skf = StratifiedKFold(n_splits=5, shuffle=True, random_state=42)\n",
        "scores = []\n",
        "\n",
        "for train_idx, val_idx in skf.split(X, y):\n",
        "    X_train, y_train = X.iloc[train_idx], y.iloc[train_idx]\n",
        "    X_valid, y_valid = X.iloc[val_idx], y.iloc[val_idx]\n",
        "    \n",
        "    model = xgb.XGBClassifier(**params)\n",
        "    \n",
        "    model.fit(X_train, y_train)\n",
        "\n",
        "    val_preds = model.predict_proba(X_valid)\n",
        "\n",
        "    val_score = log_loss(y_valid, val_preds)\n",
        "\n",
        "    scores.append(val_score)\n",
        "\n",
        "print(f'Log-loss scores: {scores}')\n",
        "print(f'Mean Log-loss: {np.mean(scores)}')\n"
      ]
    },
    {
      "cell_type": "code",
      "execution_count": 14,
      "metadata": {
        "trusted": true
      },
      "outputs": [],
      "source": [
        "prediction = model.predict_proba(test[features])"
      ]
    },
    {
      "cell_type": "code",
      "execution_count": 15,
      "metadata": {
        "trusted": true
      },
      "outputs": [],
      "source": [
        "sample_submission[['class_0', 'class_1']] = prediction"
      ]
    },
    {
      "cell_type": "code",
      "execution_count": 16,
      "metadata": {},
      "outputs": [
        {
          "data": {
            "text/html": [
              "<div>\n",
              "<style scoped>\n",
              "    .dataframe tbody tr th:only-of-type {\n",
              "        vertical-align: middle;\n",
              "    }\n",
              "\n",
              "    .dataframe tbody tr th {\n",
              "        vertical-align: top;\n",
              "    }\n",
              "\n",
              "    .dataframe thead th {\n",
              "        text-align: right;\n",
              "    }\n",
              "</style>\n",
              "<table border=\"1\" class=\"dataframe\">\n",
              "  <thead>\n",
              "    <tr style=\"text-align: right;\">\n",
              "      <th></th>\n",
              "      <th>Id</th>\n",
              "      <th>class_0</th>\n",
              "      <th>class_1</th>\n",
              "    </tr>\n",
              "  </thead>\n",
              "  <tbody>\n",
              "    <tr>\n",
              "      <th>0</th>\n",
              "      <td>00eed32682bb</td>\n",
              "      <td>0.771648</td>\n",
              "      <td>0.228352</td>\n",
              "    </tr>\n",
              "    <tr>\n",
              "      <th>1</th>\n",
              "      <td>010ebe33f668</td>\n",
              "      <td>0.771648</td>\n",
              "      <td>0.228352</td>\n",
              "    </tr>\n",
              "    <tr>\n",
              "      <th>2</th>\n",
              "      <td>02fa521e1838</td>\n",
              "      <td>0.771648</td>\n",
              "      <td>0.228352</td>\n",
              "    </tr>\n",
              "    <tr>\n",
              "      <th>3</th>\n",
              "      <td>040e15f562a2</td>\n",
              "      <td>0.771648</td>\n",
              "      <td>0.228352</td>\n",
              "    </tr>\n",
              "    <tr>\n",
              "      <th>4</th>\n",
              "      <td>046e85c7cc7f</td>\n",
              "      <td>0.771648</td>\n",
              "      <td>0.228352</td>\n",
              "    </tr>\n",
              "  </tbody>\n",
              "</table>\n",
              "</div>"
            ],
            "text/plain": [
              "             Id   class_0   class_1\n",
              "0  00eed32682bb  0.771648  0.228352\n",
              "1  010ebe33f668  0.771648  0.228352\n",
              "2  02fa521e1838  0.771648  0.228352\n",
              "3  040e15f562a2  0.771648  0.228352\n",
              "4  046e85c7cc7f  0.771648  0.228352"
            ]
          },
          "execution_count": 16,
          "metadata": {},
          "output_type": "execute_result"
        }
      ],
      "source": [
        "sample_submission"
      ]
    },
    {
      "cell_type": "code",
      "execution_count": 17,
      "metadata": {
        "trusted": true
      },
      "outputs": [],
      "source": [
        "sample_submission.to_csv('submission.csv', index=False)"
      ]
    },
    {
      "cell_type": "code",
      "execution_count": null,
      "metadata": {},
      "outputs": [],
      "source": []
    }
  ],
  "metadata": {
    "kernelspec": {
      "display_name": "Python 3",
      "language": "python",
      "name": "python3"
    },
    "language_info": {
      "codemirror_mode": {
        "name": "ipython",
        "version": 3
      },
      "file_extension": ".py",
      "mimetype": "text/x-python",
      "name": "python",
      "nbconvert_exporter": "python",
      "pygments_lexer": "ipython3",
      "version": "3.11.3"
    }
  },
  "nbformat": 4,
  "nbformat_minor": 4
}
