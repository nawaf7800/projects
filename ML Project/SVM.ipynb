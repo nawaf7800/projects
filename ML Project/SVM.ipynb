{
 "cells": [
  {
   "cell_type": "code",
   "execution_count": null,
   "metadata": {},
   "outputs": [],
   "source": [
    "import pandas as pd\n",
    "from sklearn.model_selection import KFold, cross_val_score\n",
    "\n",
    "from sklearn.model_selection import train_test_split\n",
    "from sklearn import svm"
   ]
  },
  {
   "cell_type": "code",
   "execution_count": null,
   "metadata": {},
   "outputs": [],
   "source": [
    "# Importing data\n",
    "df = pd.read_csv('./cpcs433_assignment_2.csv')\n",
    "df2 = df.drop(columns=['handle', 'A_mean', 'B_mean', 'C_mean', 'A_max', 'B_max', 'C_max', 'D_max', 'E_max', 'A_solved',], inplace=False)"
   ]
  },
  {
   "cell_type": "code",
   "execution_count": null,
   "metadata": {},
   "outputs": [],
   "source": [
    "X = df2.drop(columns=['rank'], inplace=False)\n",
    "y = df2.loc[:, ['rank']]"
   ]
  },
  {
   "cell_type": "code",
   "execution_count": null,
   "metadata": {},
   "outputs": [],
   "source": [
    "X_train, X_test, y_train, y_test = train_test_split(X, y, test_size=0.25)"
   ]
  },
  {
   "cell_type": "code",
   "execution_count": null,
   "metadata": {},
   "outputs": [],
   "source": [
    "model = svm.SVR(C=0.17, gamma=0.0001)\n",
    "\n",
    "model.fit(X_train, y_train.values.ravel())\n",
    "print(model)"
   ]
  },
  {
   "cell_type": "code",
   "execution_count": null,
   "metadata": {},
   "outputs": [],
   "source": [
    "from sklearn.metrics import mean_absolute_error as mae \n",
    "predicted_y = model.predict(X_test)\n",
    "error = mae(y_test, predicted_y)\n",
    "print(\"Mean absolute error : \" + str(error))"
   ]
  },
  {
   "cell_type": "code",
   "execution_count": null,
   "metadata": {},
   "outputs": [],
   "source": [
    "# automated hyperparameter tuning\n",
    "from sklearn.model_selection import GridSearchCV\n",
    "  \n",
    "# defining parameter range\n",
    "param_grid = {'C': [0.1, 0.01, 0.001, 0.9, 0.07], \n",
    "              'gamma': [0.0001, 0.0005, 0.0007, 0.00009, 0.0003],\n",
    "              'kernel': ['rbf']} \n",
    "  \n",
    "grid = GridSearchCV(svm.SVR(kernel = 'linear', gamma = 'auto'), param_grid, refit = True, verbose = 3)\n",
    "grid.fit(X_train, y_train.values.ravel())\n",
    "\n",
    "print(grid.best_params_)\n",
    "print(grid.best_estimator_)"
   ]
  },
  {
   "cell_type": "code",
   "execution_count": null,
   "metadata": {},
   "outputs": [],
   "source": [
    "params = model.get_params()\n",
    "params_df = pd.DataFrame(params, index=[0])\n",
    "params_df.T"
   ]
  },
  {
   "cell_type": "code",
   "execution_count": null,
   "metadata": {},
   "outputs": [],
   "source": []
  }
 ],
 "metadata": {
  "kernelspec": {
   "display_name": "Python 3",
   "language": "python",
   "name": "python3"
  },
  "language_info": {
   "codemirror_mode": {
    "name": "ipython",
    "version": 3
   },
   "file_extension": ".py",
   "mimetype": "text/x-python",
   "name": "python",
   "nbconvert_exporter": "python",
   "pygments_lexer": "ipython3",
   "version": "3.11.3"
  },
  "orig_nbformat": 4
 },
 "nbformat": 4,
 "nbformat_minor": 2
}
